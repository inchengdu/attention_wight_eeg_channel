{
 "cells": [
  {
   "attachments": {},
   "cell_type": "markdown",
   "metadata": {},
   "source": [
    "<font size=15> movement缺失数据集制作</font>   \n",
    "<font size=5>  测试时，每个通道都要是修复的坏道.输入数据单独保存一份为.mat 格式。用于EEGLAB测试   \n",
    "<font size=5>  当存在2-5个坏道时，其余坏道随机产生。随机产生50组数据。  \n"
   ]
  },
  {
   "cell_type": "code",
   "execution_count": 56,
   "metadata": {},
   "outputs": [],
   "source": [
    "import numpy as np\n",
    "import os\n",
    "import random\n",
    "import scipy.io as scio"
   ]
  },
  {
   "cell_type": "code",
   "execution_count": 52,
   "metadata": {},
   "outputs": [
    {
     "name": "stdout",
     "output_type": "stream",
     "text": [
      "S001R09.npy\n"
     ]
    }
   ],
   "source": [
    "# load_path 预处理后的数据保存文件夹\n",
    "# save_path 数据集存放地址\n",
    "# file_name 预处理后的文件，根据文件夹索引\n",
    "load_path=\"\"\n",
    "save_path=\"\"\n",
    "file_name_array=os.listdir(load_path)\n",
    "file_name=file_name_array[2]\n",
    "print(file_name)"
   ]
  },
  {
   "cell_type": "code",
   "execution_count": 15,
   "metadata": {},
   "outputs": [],
   "source": [
    "lens=200"
   ]
  },
  {
   "cell_type": "code",
   "execution_count": 16,
   "metadata": {},
   "outputs": [],
   "source": [
    "data_full=np.load(load_path+\"\\\\\"+file_name)"
   ]
  },
  {
   "cell_type": "code",
   "execution_count": 17,
   "metadata": {},
   "outputs": [
    {
     "name": "stdout",
     "output_type": "stream",
     "text": [
      "(17, 10000)\n",
      "[[-2.12404206e-10  3.20457060e-06 -1.41914219e-06 ... -9.74382915e-08\n",
      "  -5.90926557e-08 -1.84381357e-08]\n",
      " [ 1.60194472e-10  6.68518610e-06  8.53872270e-06 ... -3.63013969e-08\n",
      "  -2.26736863e-08 -6.16609095e-09]\n",
      " [-4.28402438e-10  3.80356643e-06  1.22898295e-05 ... -4.72943740e-08\n",
      "  -2.69302669e-08 -8.49213750e-09]\n",
      " ...\n",
      " [ 1.15226370e-10 -1.32651680e-05 -2.15453065e-05 ... -1.07466039e-08\n",
      "  -5.90516862e-09 -2.02039091e-09]\n",
      " [ 3.55802437e-10 -1.66542684e-05 -3.14689385e-05 ... -2.39786263e-08\n",
      "  -1.72926921e-08 -3.73760592e-09]\n",
      " [ 7.91664741e-10 -2.25077885e-05 -1.56889959e-05 ... -1.52723505e-08\n",
      "  -2.01418055e-08  2.30201537e-10]]\n"
     ]
    }
   ],
   "source": [
    "print(data_full.shape)\n",
    "print(data_full)"
   ]
  },
  {
   "cell_type": "code",
   "execution_count": 48,
   "metadata": {},
   "outputs": [],
   "source": [
    "def lack_math(raw,lack_c):\n",
    "    for _ in range(50):\n",
    "        \n",
    "    full_data=raw.copy()\n",
    "    full_data[lack_c]=0\n",
    "    full_data=np.delete(full_data,lack_c,axis=0)\n",
    "    real=raw[lack_c]\n",
    "    zero=np.zeros((1,raw.shape[1]))\n",
    "    full_data=np.append(full_data,zero,axis=0)\n",
    "    return full_data,real"
   ]
  },
  {
   "cell_type": "code",
   "execution_count": 49,
   "metadata": {},
   "outputs": [],
   "source": [
    "bad_channel_data=np.ones((17,17,data_full.shape[1]),dtype=float)\n",
    "real_data=np.ones((17,data_full.shape[1]),dtype=float)\n",
    "channel_array=np.arange(17)\n",
    "for i in range(17):\n",
    "    bad_channel_data[i],real_data[i]=lack_math(data_full,i)"
   ]
  },
  {
   "cell_type": "code",
   "execution_count": 50,
   "metadata": {},
   "outputs": [
    {
     "name": "stdout",
     "output_type": "stream",
     "text": [
      "(17, 10000)\n"
     ]
    }
   ],
   "source": [
    "print(real_data.shape)"
   ]
  },
  {
   "cell_type": "code",
   "execution_count": 57,
   "metadata": {},
   "outputs": [],
   "source": [
    "np.save(save_path+\"//\"+file_name[0:-4]+\"_real01.npy\",real_data)\n",
    "np.save(save_path+\"//\"+file_name[0:-4]+\"_full01.npy\",bad_channel_data)\n",
    "scio.savemat(save_path+\"//\"+file_name[0:-4]+\"_eeglab01.mat\",{\"data\":bad_channel_data})"
   ]
  },
  {
   "cell_type": "code",
   "execution_count": null,
   "metadata": {},
   "outputs": [],
   "source": []
  },
  {
   "cell_type": "code",
   "execution_count": null,
   "metadata": {},
   "outputs": [],
   "source": []
  }
 ],
 "metadata": {
  "kernelspec": {
   "display_name": "pytorch",
   "language": "python",
   "name": "python3"
  },
  "language_info": {
   "codemirror_mode": {
    "name": "ipython",
    "version": 3
   },
   "file_extension": ".py",
   "mimetype": "text/x-python",
   "name": "python",
   "nbconvert_exporter": "python",
   "pygments_lexer": "ipython3",
   "version": "3.9.13"
  },
  "orig_nbformat": 4,
  "vscode": {
   "interpreter": {
    "hash": "1a61ded091e49bac219c59beecc96d030eb2f39d76b7087ad025c76f0f785cb6"
   }
  }
 },
 "nbformat": 4,
 "nbformat_minor": 2
}
