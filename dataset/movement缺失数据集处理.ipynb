{
 "cells": [
  {
   "attachments": {},
   "cell_type": "markdown",
   "metadata": {},
   "source": [
    "## SEED缺失数据集制作"
   ]
  },
  {
   "attachments": {},
   "cell_type": "markdown",
   "metadata": {},
   "source": [
    "单个通道缺失"
   ]
  },
  {
   "cell_type": "code",
   "execution_count": 1,
   "metadata": {},
   "outputs": [],
   "source": [
    "import numpy as np"
   ]
  },
  {
   "cell_type": "code",
   "execution_count": 2,
   "metadata": {},
   "outputs": [],
   "source": [
    "lens=200"
   ]
  },
  {
   "cell_type": "code",
   "execution_count": 3,
   "metadata": {},
   "outputs": [],
   "source": [
    "data_full=np.load(\"G:\\\\dataset\\\\hight\\\\movement_preprocessing\\\\trans_data\\\\rename\\\\01.npy\")"
   ]
  },
  {
   "cell_type": "code",
   "execution_count": 4,
   "metadata": {},
   "outputs": [
    {
     "name": "stdout",
     "output_type": "stream",
     "text": [
      "(17, 4880)\n",
      "[[-4.30976969e-06 -1.20875705e-05 -4.63485460e-06 ... -1.84530824e-07\n",
      "   1.84277989e-07 -1.84129621e-07]\n",
      " [ 5.74331060e-06  3.95473313e-06  1.20719249e-05 ...  3.55050162e-07\n",
      "  -3.55076247e-07  3.55097539e-07]\n",
      " [ 2.17759131e-05  8.67536464e-06  1.95084201e-05 ... -2.20034295e-07\n",
      "   2.19822611e-07 -2.19732578e-07]\n",
      " ...\n",
      " [ 7.86908150e-05  9.91628715e-05  7.23442326e-05 ... -1.76038657e-07\n",
      "   1.75934005e-07 -1.75880439e-07]\n",
      " [ 6.46766251e-05  1.04731702e-04  6.08615297e-05 ... -2.21431010e-07\n",
      "   2.21463539e-07 -2.21477448e-07]\n",
      " [ 1.32637096e-04  1.40813641e-04  7.93773702e-05 ... -2.52372336e-07\n",
      "   2.52467135e-07 -2.52502288e-07]]\n"
     ]
    }
   ],
   "source": [
    "print(data_full.shape)\n",
    "print(data_full)"
   ]
  },
  {
   "cell_type": "code",
   "execution_count": 5,
   "metadata": {},
   "outputs": [],
   "source": [
    "# def lack_math(raw,lack_c,clear_c):\n",
    "#     full_data=raw.copy()\n",
    "#     full_data[clear_c]=0\n",
    "#     real=raw[lack_c]\n",
    "#     full_data=np.delete(full_data,clear_c,axis=0)\n",
    "#     zero=np.zeros((1,lens))\n",
    "#     full_data=np.append(full_data,zero,axis=0)\n",
    "#     return full_data,real"
   ]
  },
  {
   "cell_type": "code",
   "execution_count": 6,
   "metadata": {},
   "outputs": [],
   "source": [
    "def lack_math(raw,lack_c,clear_c):\n",
    "    full_data=raw.copy()\n",
    "    full_data[clear_c]=0\n",
    "    full_data=np.delete(full_data,lack_c,axis=0)\n",
    "    real=raw[lack_c]\n",
    "    zero=np.zeros((1,lens))\n",
    "    full_data=np.append(full_data,zero,axis=0)\n",
    "    return full_data,real"
   ]
  },
  {
   "cell_type": "code",
   "execution_count": 7,
   "metadata": {},
   "outputs": [
    {
     "ename": "IndexError",
     "evalue": "too many indices for array: array is 2-dimensional, but 3 were indexed",
     "output_type": "error",
     "traceback": [
      "\u001b[1;31m---------------------------------------------------------------------------\u001b[0m",
      "\u001b[1;31mIndexError\u001b[0m                                Traceback (most recent call last)",
      "Cell \u001b[1;32mIn[7], line 1\u001b[0m\n\u001b[1;32m----> 1\u001b[0m data_5\u001b[39m=\u001b[39mdata_full[\u001b[39m50\u001b[39;49m,:,:]\n\u001b[0;32m      2\u001b[0m full_data,real\u001b[39m=\u001b[39mlack_math(data_5,[\u001b[39m5\u001b[39m],[\u001b[39m4\u001b[39m,\u001b[39m5\u001b[39m])\n",
      "\u001b[1;31mIndexError\u001b[0m: too many indices for array: array is 2-dimensional, but 3 were indexed"
     ]
    }
   ],
   "source": [
    "data_5=data_full[50,:,:]\n",
    "full_data,real=lack_math(data_5,[5],[4,5])"
   ]
  },
  {
   "cell_type": "code",
   "execution_count": 8,
   "metadata": {},
   "outputs": [
    {
     "ename": "NameError",
     "evalue": "name 'full_data' is not defined",
     "output_type": "error",
     "traceback": [
      "\u001b[1;31m---------------------------------------------------------------------------\u001b[0m",
      "\u001b[1;31mNameError\u001b[0m                                 Traceback (most recent call last)",
      "Cell \u001b[1;32mIn[8], line 1\u001b[0m\n\u001b[1;32m----> 1\u001b[0m \u001b[39mprint\u001b[39m(full_data\u001b[39m.\u001b[39mshape)\n\u001b[0;32m      2\u001b[0m \u001b[39mprint\u001b[39m(full_data[:,\u001b[39m0\u001b[39m:\u001b[39m2\u001b[39m])\n",
      "\u001b[1;31mNameError\u001b[0m: name 'full_data' is not defined"
     ]
    }
   ],
   "source": [
    "print(full_data.shape)\n",
    "print(full_data[:,0:2])"
   ]
  },
  {
   "cell_type": "code",
   "execution_count": 19,
   "metadata": {},
   "outputs": [
    {
     "name": "stdout",
     "output_type": "stream",
     "text": [
      "(1, 200)\n"
     ]
    }
   ],
   "source": [
    "print(real.shape)"
   ]
  },
  {
   "cell_type": "code",
   "execution_count": 20,
   "metadata": {},
   "outputs": [],
   "source": [
    "np.save('D:\\\\code\\\\验证算法02\\\\完整数据集\\\\50\\\\seed\\\\FZ_F3\\\\50_Fp1_real.npy',real)\n",
    "np.save('D:\\\\code\\\\验证算法02\\\\完整数据集\\\\50\\\\seed\\\\FZ_F3\\\\50_Fp1_full.npy',full_data)\n",
    "np.savetxt('D:\\\\code\\\\验证算法02\\\\完整数据集\\\\50\\\\seed\\\\FZ_F3\\\\50_Fp1_full.txt',full_data)"
   ]
  },
  {
   "cell_type": "code",
   "execution_count": null,
   "metadata": {},
   "outputs": [],
   "source": []
  },
  {
   "cell_type": "code",
   "execution_count": null,
   "metadata": {},
   "outputs": [],
   "source": []
  }
 ],
 "metadata": {
  "kernelspec": {
   "display_name": "pytorch",
   "language": "python",
   "name": "python3"
  },
  "language_info": {
   "codemirror_mode": {
    "name": "ipython",
    "version": 3
   },
   "file_extension": ".py",
   "mimetype": "text/x-python",
   "name": "python",
   "nbconvert_exporter": "python",
   "pygments_lexer": "ipython3",
   "version": "3.9.16"
  },
  "orig_nbformat": 4,
  "vscode": {
   "interpreter": {
    "hash": "1a61ded091e49bac219c59beecc96d030eb2f39d76b7087ad025c76f0f785cb6"
   }
  }
 },
 "nbformat": 4,
 "nbformat_minor": 2
}
