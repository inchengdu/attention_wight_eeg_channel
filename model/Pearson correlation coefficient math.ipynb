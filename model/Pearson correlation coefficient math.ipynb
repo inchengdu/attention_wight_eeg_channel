{
 "cells": [
  {
   "cell_type": "markdown",
   "metadata": {},
   "source": [
    " <font size=15> Pearson correlation coefficient </font>    \n",
    " <font size=5> 在历史数据中，计算通道间的皮尔逊相关系数，再取平均值 </font>\n"
   ]
  },
  {
   "cell_type": "code",
   "execution_count": 1,
   "metadata": {},
   "outputs": [],
   "source": [
    "import numpy as np\n",
    "from scipy.stats import pearsonr"
   ]
  },
  {
   "cell_type": "code",
   "execution_count": null,
   "metadata": {},
   "outputs": [],
   "source": [
    "# file_path 数据集所在文件夹\n",
    "# save_path 皮尔逊计算结果保存文件夹\n",
    "file_path=\"\"\n",
    "save_path=\"\" "
   ]
  },
  {
   "cell_type": "code",
   "execution_count": 3,
   "metadata": {},
   "outputs": [],
   "source": [
    "data=np.load(file_path)"
   ]
  },
  {
   "cell_type": "code",
   "execution_count": 4,
   "metadata": {},
   "outputs": [
    {
     "name": "stdout",
     "output_type": "stream",
     "text": [
      "(16891, 17, 200)\n"
     ]
    }
   ],
   "source": [
    "print(data.shape)"
   ]
  },
  {
   "cell_type": "code",
   "execution_count": 5,
   "metadata": {},
   "outputs": [
    {
     "name": "stdout",
     "output_type": "stream",
     "text": [
      "(16890, 17, 200)\n"
     ]
    }
   ],
   "source": [
    "data=data[1:]\n",
    "print(data.shape)"
   ]
  },
  {
   "cell_type": "code",
   "execution_count": 6,
   "metadata": {},
   "outputs": [],
   "source": [
    "pearson_corr_mar=np.zeros((data.shape[0],17,17))"
   ]
  },
  {
   "cell_type": "code",
   "execution_count": 7,
   "metadata": {},
   "outputs": [],
   "source": [
    "# 按样本计算通道间的皮尔逊相关系数\n",
    "for i in range(data.shape[0]):\n",
    "    for j in range(17):\n",
    "        for k in range(17):\n",
    "            x=data[i,j,:]\n",
    "            y=data[i,k,:]\n",
    "            pearson_corr_mar[i,j,k]=pearsonr(x,y)[0]\n",
    "            if k==j:\n",
    "                pearson_corr_mar[i,j,k]=0\n"
   ]
  },
  {
   "cell_type": "code",
   "execution_count": 10,
   "metadata": {},
   "outputs": [
    {
     "name": "stdout",
     "output_type": "stream",
     "text": [
      "(17, 17)\n"
     ]
    }
   ],
   "source": [
    "pearson_sum=np.sum(pearson_corr_mar,axis=0)"
   ]
  },
  {
   "cell_type": "code",
   "execution_count": 11,
   "metadata": {},
   "outputs": [],
   "source": [
    "# 样本间取均值\n",
    "pearson_mean=pearson_sum/(pearson_corr_mar.shape[0])"
   ]
  },
  {
   "cell_type": "code",
   "execution_count": null,
   "metadata": {},
   "outputs": [],
   "source": [
    "pearson_abs=np.abs(pearson_mean)\n",
    "pearson_abs_sum=pearson_abs.sum(axis=1)\n",
    "pearson_weight=pearson_mean/pearson_abs_sum"
   ]
  },
  {
   "cell_type": "code",
   "execution_count": 50,
   "metadata": {},
   "outputs": [],
   "source": [
    "np.save(save_path,pearson_weight)"
   ]
  },
  {
   "cell_type": "code",
   "execution_count": null,
   "metadata": {},
   "outputs": [],
   "source": []
  }
 ],
 "metadata": {
  "kernelspec": {
   "display_name": "python",
   "language": "python",
   "name": "python3"
  },
  "language_info": {
   "codemirror_mode": {
    "name": "ipython",
    "version": 3
   },
   "file_extension": ".py",
   "mimetype": "text/x-python",
   "name": "python",
   "nbconvert_exporter": "python",
   "pygments_lexer": "ipython3",
   "version": "3.9.16"
  },
  "orig_nbformat": 4
 },
 "nbformat": 4,
 "nbformat_minor": 2
}
