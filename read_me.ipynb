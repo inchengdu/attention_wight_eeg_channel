{
 "cells": [
  {
   "cell_type": "markdown",
   "metadata": {},
   "source": [
    "# Read me"
   ]
  },
  {
   "cell_type": "markdown",
   "metadata": {},
   "source": [
    "# Code update ..."
   ]
  },
  {
   "cell_type": "markdown",
   "metadata": {},
   "source": [
    "<font size=10> 代码包括2个部分 </font>\n",
    "1. 数据读取与数据处理\n",
    "2. 模型搭建与训练"
   ]
  },
  {
   "cell_type": "markdown",
   "metadata": {},
   "source": [
    "1.数据读取 使用mne库   \n",
    "2.使用不同数据集注意，保持通道的排序一致（或者建立字典，在数据输入embedding 通过映射使embedding 的键值对应）   \n",
    "3.数据处理时，每个小段的数据长度是超参数。要与后面搭建的模型输入相匹配   \n",
    "4.提供代码，只是处理一个试次的代码。在使用时需要根据具体的数据集修改代码。  "
   ]
  },
  {
   "cell_type": "markdown",
   "metadata": {},
   "source": []
  }
 ],
 "metadata": {
  "kernelspec": {
   "display_name": "python",
   "language": "python",
   "name": "python3"
  },
  "language_info": {
   "codemirror_mode": {
    "name": "ipython",
    "version": 3
   },
   "file_extension": ".py",
   "mimetype": "text/x-python",
   "name": "python",
   "nbconvert_exporter": "python",
   "pygments_lexer": "ipython3",
   "version": "3.9.16"
  },
  "orig_nbformat": 4
 },
 "nbformat": 4,
 "nbformat_minor": 2
}
